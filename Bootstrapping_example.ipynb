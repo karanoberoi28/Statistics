{
  "nbformat": 4,
  "nbformat_minor": 0,
  "metadata": {
    "colab": {
      "provenance": []
    },
    "kernelspec": {
      "name": "python3",
      "display_name": "Python 3"
    },
    "language_info": {
      "name": "python"
    }
  },
  "cells": [
    {
      "cell_type": "code",
      "execution_count": 1,
      "metadata": {
        "id": "Wv2wfASR79fx"
      },
      "outputs": [],
      "source": [
        "# Import Libraries\n",
        "import numpy as np\n",
        "import matplotlib.pyplot as plt\n",
        "import seaborn as sns"
      ]
    },
    {
      "cell_type": "code",
      "source": [
        "# Define inputs\n",
        "sample_size = 1000\n",
        "mean = 50\n",
        "std_dev = 10"
      ],
      "metadata": {
        "id": "BqnZLLIV8HOc"
      },
      "execution_count": 2,
      "outputs": []
    },
    {
      "cell_type": "code",
      "source": [
        "# Create a sample of normal distribution\n",
        "np.random.seed(42)\n",
        "sample = np.random.normal(loc=mean, scale=std_dev, size=sample_size)"
      ],
      "metadata": {
        "id": "W12X_I_c8DPE"
      },
      "execution_count": 3,
      "outputs": []
    },
    {
      "cell_type": "code",
      "source": [
        "# Define a function to perform bootstrapping\n",
        "def bootstrap(sample, n_iterations = 1000, ci_percentile = 95):\n",
        "\n",
        "    bootstrap_means = []\n",
        "    n = len(sample)\n",
        "\n",
        "    for _ in range(n_iterations):\n",
        "\n",
        "        # Generate a bootstrap sample by random sampling with replacement\n",
        "        bootstrap_sample = np.random.choice(sample, size = n, replace=True)\n",
        "        bootstrap_means.append(np.mean(bootstrap_sample))\n",
        "\n",
        "    # Calculate the confidence interval\n",
        "    lower_bound = np.percentile(bootstrap_means, (100 - ci_percentile) / 2)\n",
        "    upper_bound = np.percentile(bootstrap_means, 100 - (100 - ci_percentile) / 2)\n",
        "\n",
        "    return np.round(np.mean(bootstrap_means), 2), np.round((lower_bound, upper_bound), 2)"
      ],
      "metadata": {
        "id": "LxhUQMv47_a8"
      },
      "execution_count": 4,
      "outputs": []
    },
    {
      "cell_type": "code",
      "source": [
        "# Execute bootstraping function\n",
        "boot_mean, ci = bootstrap(sample)"
      ],
      "metadata": {
        "id": "G31eQYLn8TMU"
      },
      "execution_count": 5,
      "outputs": []
    },
    {
      "cell_type": "code",
      "source": [
        "print(boot_mean, ci)"
      ],
      "metadata": {
        "colab": {
          "base_uri": "https://localhost:8080/"
        },
        "id": "HiALCue38W7E",
        "outputId": "56eb7312-a1a3-473b-b364-3d33f6460648"
      },
      "execution_count": 6,
      "outputs": [
        {
          "output_type": "stream",
          "name": "stdout",
          "text": [
            "50.2 [49.61 50.85]\n"
          ]
        }
      ]
    }
  ]
}