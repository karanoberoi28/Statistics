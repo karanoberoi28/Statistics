{
  "nbformat": 4,
  "nbformat_minor": 0,
  "metadata": {
    "colab": {
      "provenance": []
    },
    "kernelspec": {
      "name": "python3",
      "display_name": "Python 3"
    },
    "language_info": {
      "name": "python"
    }
  },
  "cells": [
    {
      "cell_type": "code",
      "execution_count": 1,
      "metadata": {
        "id": "w00yeQVBMIwM"
      },
      "outputs": [],
      "source": [
        "# import libraries\n",
        "import numpy as np"
      ]
    },
    {
      "cell_type": "code",
      "source": [
        "# Define Parameters\n",
        "n_iter = 10000 # Number of montecarlo simulations\n",
        "lower_limit = 0 # Lower bound of uniform distribution\n",
        "upper_limit = 3 # Upper bound of uniform distribution\n",
        "n_value = 4 # Numbers randomly picked from uniform distribution\n",
        "n_med = 2.5 # Value higher than median for running simulation"
      ],
      "metadata": {
        "id": "L5dXXl31Xx1w"
      },
      "execution_count": 6,
      "outputs": []
    },
    {
      "cell_type": "code",
      "source": [
        "# Function to execute montecarlo simulation\n",
        "def monte_carlo_median_simulation(n_iter, dist_lower_limit, dist_upper_limit, n_val, n_med):\n",
        "\n",
        "  # create counting variable\n",
        "  count = 0\n",
        "\n",
        "  for _ in range(n_iter):\n",
        "\n",
        "    # create an array of uniform distribution\n",
        "    uniform_dist = np.random.uniform(dist_lower_limit, dist_upper_limit, n_val)\n",
        "\n",
        "    # calculate median\n",
        "    med = np.median(uniform_dist)\n",
        "\n",
        "    if med > n_med:\n",
        "      count += 1\n",
        "\n",
        "  return count / n_iter"
      ],
      "metadata": {
        "id": "XlJ3SKWdMSU3"
      },
      "execution_count": 7,
      "outputs": []
    },
    {
      "cell_type": "code",
      "source": [
        "# Execute monte carlo simulation\n",
        "monte_carlo_median_simulation(n_iter, lower_limit, upper_limit, n_value, n_med)"
      ],
      "metadata": {
        "colab": {
          "base_uri": "https://localhost:8080/"
        },
        "id": "EtxkdLB3NPyg",
        "outputId": "6870dbab-b462-4c5b-a2eb-a009ced6824c"
      },
      "execution_count": 8,
      "outputs": [
        {
          "output_type": "execute_result",
          "data": {
            "text/plain": [
              "0.0318"
            ]
          },
          "metadata": {},
          "execution_count": 8
        }
      ]
    }
  ]
}