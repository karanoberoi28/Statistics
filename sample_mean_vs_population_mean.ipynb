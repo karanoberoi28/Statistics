{
  "nbformat": 4,
  "nbformat_minor": 0,
  "metadata": {
    "colab": {
      "provenance": []
    },
    "kernelspec": {
      "name": "python3",
      "display_name": "Python 3"
    },
    "language_info": {
      "name": "python"
    }
  },
  "cells": [
    {
      "cell_type": "code",
      "source": [
        "# Import Libraries\n",
        "import numpy as np\n",
        "import scipy.stats as stats"
      ],
      "metadata": {
        "id": "SmaJUBYXNR8X"
      },
      "execution_count": 1,
      "outputs": []
    },
    {
      "cell_type": "code",
      "execution_count": 2,
      "metadata": {
        "id": "j7ACNAVW_mAY"
      },
      "outputs": [],
      "source": [
        "\n",
        "# Define Parameters\n",
        "population_mean = 100  # True population mean\n",
        "population_std = 15    # True population standard deviation\n",
        "sample_size = 100      # Sample size\n",
        "num_samples = 1000     # Number of samples to generate"
      ]
    },
    {
      "cell_type": "code",
      "source": [
        "# Function to generate random samples and calculate confidence intervals\n",
        "def simulate_confidence_intervals(population_mean, population_std, sample_size, num_samples, confidence_level=0.95):\n",
        "\n",
        "    true_count = 0\n",
        "\n",
        "    for _ in range(num_samples):\n",
        "\n",
        "        # Generate random sample from the population\n",
        "        sample = np.random.normal(population_mean, population_std, sample_size)\n",
        "\n",
        "        # Calculate sample statistics\n",
        "        sample_mean = np.mean(sample)\n",
        "        sample_std = np.std(sample)\n",
        "\n",
        "        # Calculate standard error\n",
        "        standard_error = sample_std / np.sqrt(sample_size)\n",
        "\n",
        "        # Calculate margin of error - Two-tailed z-score\n",
        "        z_score = stats.norm.ppf((1 + confidence_level) / 2)\n",
        "        margin_of_error = z_score * standard_error\n",
        "\n",
        "        # Calculate confidence interval\n",
        "        lower_bound = sample_mean - margin_of_error\n",
        "        upper_bound = sample_mean + margin_of_error\n",
        "\n",
        "        # Check if true population mean falls within the confidence interval\n",
        "        if lower_bound <= population_mean <= upper_bound:\n",
        "            true_count += 1\n",
        "\n",
        "    # Calculate the proportion of times the true mean falls within the confidence intervals\n",
        "    proportion_true = true_count / num_samples\n",
        "\n",
        "    return proportion_true"
      ],
      "metadata": {
        "id": "t-cUOpQeNXFA"
      },
      "execution_count": 4,
      "outputs": []
    },
    {
      "cell_type": "code",
      "source": [
        "\n",
        "# Simulate confidence intervals and calculate proportion of true mean within the intervals\n",
        "proportion_true_mean = simulate_confidence_intervals(population_mean, population_std, sample_size, num_samples)\n",
        "\n",
        "print(f\"Proportion of times true mean falls within the confidence intervals: {proportion_true_mean:.2f}\")"
      ],
      "metadata": {
        "colab": {
          "base_uri": "https://localhost:8080/"
        },
        "id": "OVdbZNUnNZao",
        "outputId": "3fffc1a4-cd4b-44a4-fa49-4b6cd2b5aa2c"
      },
      "execution_count": 5,
      "outputs": [
        {
          "output_type": "stream",
          "name": "stdout",
          "text": [
            "Proportion of times true mean falls within the confidence intervals: 0.96\n"
          ]
        }
      ]
    }
  ]
}